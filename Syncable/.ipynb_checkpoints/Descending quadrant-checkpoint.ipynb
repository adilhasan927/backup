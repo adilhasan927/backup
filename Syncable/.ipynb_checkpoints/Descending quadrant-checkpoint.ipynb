{
 "cells": [
  {
   "cell_type": "markdown",
   "id": "6d48f0eb-a136-4933-937f-4faf534123f4",
   "metadata": {},
   "source": [
    "# Descending Quadrant -- Investigation"
   ]
  },
  {
   "cell_type": "markdown",
   "id": "ab713b71-d9d6-414c-80fc-97cb41e00c9a",
   "metadata": {},
   "source": [
    "## Imports"
   ]
  },
  {
   "cell_type": "code",
   "execution_count": 22,
   "id": "c32ecf2d-38e9-4e9b-bed8-4dc481ce8ee0",
   "metadata": {},
   "outputs": [],
   "source": [
    "import pandas as pd\n",
    "import numpy as np\n",
    "import matplotlib.pyplot as plt\n",
    "from osgeo import gdal\n",
    "import rasterio as rio\n",
    "import sklearn as sk\n",
    "import scipy as sc"
   ]
  },
  {
   "cell_type": "code",
   "execution_count": 23,
   "id": "c4c46c79-529a-4927-8cdd-4177c057d218",
   "metadata": {},
   "outputs": [],
   "source": [
    "import tqdm\n",
    "#from tqdm import tqdm\n",
    "from tqdm.auto import tqdm # for notebooks\n",
    "tqdm.pandas()"
   ]
  },
  {
   "cell_type": "code",
   "execution_count": 24,
   "id": "f038c553-9cf1-49d6-a902-2da82d9f7f10",
   "metadata": {},
   "outputs": [],
   "source": [
    "import pickle\n",
    "import gc\n",
    "collectAll = lambda : gc.collect(0) + gc.collect(1) + gc.collect(2)"
   ]
  },
  {
   "cell_type": "code",
   "execution_count": 25,
   "id": "e4820e06-f827-48c2-b4a4-3b0f15f8f332",
   "metadata": {},
   "outputs": [
    {
     "name": "stdout",
     "output_type": "stream",
     "text": [
      "INFO: Pandarallel will run on 4 workers.\n",
      "INFO: Pandarallel will use standard multiprocessing data transfer (pipe) to transfer data between the main process and workers.\n",
      "\n",
      "WARNING: You are on Windows. If you detect any issue with pandarallel, be sure you checked out the Troubleshooting page:\n",
      "https://nalepae.github.io/pandarallel/troubleshooting/\n"
     ]
    }
   ],
   "source": [
    "from pandarallel import pandarallel\n",
    "pandarallel.initialize(progress_bar=True)"
   ]
  },
  {
   "cell_type": "code",
   "execution_count": 26,
   "id": "9904bf5d-f573-41cf-88cc-072966abd107",
   "metadata": {},
   "outputs": [],
   "source": [
    "import itables\n",
    "from itables import show"
   ]
  },
  {
   "cell_type": "code",
   "execution_count": 27,
   "id": "212a2a24-e859-42c3-9ebe-c1df038e778a",
   "metadata": {},
   "outputs": [],
   "source": [
    "import itertools"
   ]
  },
  {
   "cell_type": "markdown",
   "id": "7a3d7f62-07df-441f-9c0f-92a3cdc9b08f",
   "metadata": {},
   "source": [
    "### Unpickle"
   ]
  },
  {
   "cell_type": "code",
   "execution_count": 28,
   "id": "b61a17d0-aee6-41b3-a030-5231339da9ff",
   "metadata": {},
   "outputs": [],
   "source": [
    "df = pd.read_pickle(\"pickled_df_no_extra\")"
   ]
  },
  {
   "cell_type": "code",
   "execution_count": 29,
   "id": "0987317a-30d6-42fd-8015-3af8f86207af",
   "metadata": {},
   "outputs": [
    {
     "data": {
      "text/plain": [
       "(8, 7)"
      ]
     },
     "execution_count": 29,
     "metadata": {},
     "output_type": "execute_result"
    }
   ],
   "source": [
    "df['glcm_stats'].iloc[0].shape"
   ]
  },
  {
   "cell_type": "code",
   "execution_count": 30,
   "id": "b4191e49-e541-4419-a608-049e4f85760d",
   "metadata": {},
   "outputs": [],
   "source": [
    "df_nv = df[['filename', 'phase', 'species', 'tree_id']]"
   ]
  },
  {
   "cell_type": "code",
   "execution_count": 40,
   "id": "6109f414-5d63-4574-9381-03f4cbb6f23b",
   "metadata": {},
   "outputs": [],
   "source": [
    "def preproc(arr):\n",
    "    new_arr = np.empty(arr.shape[:3], dtype='uint8')\n",
    "    new_arr[:,:,:3] = arr[:,:,:3,0] // 2\n",
    "    new_arr[:,:,3:] = arr[:,:,3:,0] // 256\n",
    "    return new_arr"
   ]
  },
  {
   "cell_type": "code",
   "execution_count": 41,
   "id": "5b46c931-87ba-4683-b44a-bb7e5be9dcee",
   "metadata": {},
   "outputs": [],
   "source": [
    "df['raws'] = df['npz_path'].apply(lambda x: preproc(np.load(x, allow_pickle=True)))"
   ]
  },
  {
   "cell_type": "code",
   "execution_count": 42,
   "id": "0d18130a-c842-49e3-97e7-3539d45ad142",
   "metadata": {},
   "outputs": [
    {
     "data": {
      "text/plain": [
       "3391"
      ]
     },
     "execution_count": 42,
     "metadata": {},
     "output_type": "execute_result"
    }
   ],
   "source": [
    "collectAll()"
   ]
  },
  {
   "cell_type": "code",
   "execution_count": 77,
   "id": "d29f2241-59ad-48bb-b9da-dcd3ab3f2fe7",
   "metadata": {},
   "outputs": [],
   "source": [
    "df = df[df['species'] != 'Cratoxylum Formosum']"
   ]
  },
  {
   "cell_type": "markdown",
   "id": "1fe2c739-6241-4a77-8b02-4a171f242d36",
   "metadata": {},
   "source": [
    "## Check our new binning."
   ]
  },
  {
   "cell_type": "code",
   "execution_count": 78,
   "id": "e5c5bbc7-e5e2-4622-99ab-ef67d01e5822",
   "metadata": {},
   "outputs": [],
   "source": [
    "#np.array([len(np.unique(df['raws'][0][:,:,i,j])) for (i,j) in itertools.product(range(8), range(7))])\\\n",
    "#         .reshape((8,7))"
   ]
  },
  {
   "cell_type": "code",
   "execution_count": 79,
   "id": "db0a4be3-15e2-4503-893f-b054b6fdeb00",
   "metadata": {},
   "outputs": [],
   "source": [
    "#df['raws'][0].shape"
   ]
  },
  {
   "cell_type": "markdown",
   "id": "1e9ca3c6-f71b-4044-b029-2e0a48380a4c",
   "metadata": {},
   "source": [
    "## Make the new GLCMs."
   ]
  },
  {
   "cell_type": "code",
   "execution_count": 80,
   "id": "81a68625-ca8e-4d27-8900-9bb77e842903",
   "metadata": {},
   "outputs": [],
   "source": [
    "import skimage as ski\n",
    "import skimage.feature\n",
    "from skimage.feature import graycomatrix, graycoprops\n",
    "from collections import namedtuple"
   ]
  },
  {
   "cell_type": "code",
   "execution_count": 84,
   "id": "e131b5cf-f0eb-4e0c-87e4-e798f7cd4ea6",
   "metadata": {},
   "outputs": [
    {
     "ename": "SyntaxError",
     "evalue": "invalid syntax. Maybe you meant '==' or ':=' instead of '='? (3016939932.py, line 4)",
     "output_type": "error",
     "traceback": [
      "\u001b[1;36m  Cell \u001b[1;32mIn[84], line 4\u001b[1;36m\u001b[0m\n\u001b[1;33m    cropy = cropy // 4 and cropx = cropx//4\u001b[0m\n\u001b[1;37m    ^\u001b[0m\n\u001b[1;31mSyntaxError\u001b[0m\u001b[1;31m:\u001b[0m invalid syntax. Maybe you meant '==' or ':=' instead of '='?\n"
     ]
    }
   ],
   "source": [
    "def crop_center(img,cropx,cropy):\n",
    "    y,x = img.shape[:2]\n",
    "    #if y < cropy or x < cropx:\n",
    "    #    cropy = cropy // 4 and cropx = cropx//4\n",
    "    startx = x//2-(cropx//2)\n",
    "    starty = y//2-(cropy//2)    \n",
    "    return img[starty:starty+cropy,startx:startx+cropx]\n",
    "\n",
    "angles = [0, np.pi/8, np.pi/4, 3*np.pi/8,\n",
    "          np.pi/2, 5*np.pi/8, 3*np.pi/4, 7*np.pi/8]\n",
    "distances = [1]\n",
    "\n",
    "glcm_and_props = namedtuple('glcms_and_props', ['glcms', 'glcm_props'])\n",
    "\n",
    "def glcm_zooming_in(arr,\n",
    "                    np=np,\n",
    "                    crop_center=crop_center,\n",
    "                    graycomatrix=graycomatrix, graycoprops=graycoprops,\n",
    "                    angles=angles, distances=distances,\n",
    "                    glcm_and_props=glcm_and_props):\n",
    "    cropped = crop_center(arr, 64, 64)#.astype(int)\n",
    "    at_scales = {}\n",
    "    for i in [1, 2, 4, 8]:\n",
    "        #if i == 64 and min(arr.shape[0], arr.shap[1]) < 64:\n",
    "        #    at_scales[64] = at_scales[16]\n",
    "        #    at_scales[16] = at_scales[4]\n",
    "        #    at_scales[4] = at_scales[1]\n",
    "        #    at_scales[1] = None\n",
    "        #    break;\n",
    "        new = [k for j in np.split(cropped, i, axis=0) for k in np.split(j, i, axis=1)]\n",
    "        glcms = [\n",
    "            (collectAll() + 1) and np.stack(\n",
    "                [graycomatrix(i[:,:,j], distances, angles, levels=128) for j in range(0, 3)] +\n",
    "                [graycomatrix(i[:,:,j], distances, angles, levels=128) for j in range(0, 3)],\n",
    "                axis=4)\n",
    "            for i in tqdm(new)]\n",
    "        glcm_props = []\n",
    "        for prop in ['contrast', 'dissimilarity', 'homogeneity', 'ASM', 'energy', 'correlation']:\n",
    "            glcm_props.append(np.reshape(np.stack([np.stack([graycoprops(i[:,:,:,:,j], prop=prop) for j in range(6)], axis=2) for i in glcms]), (i, i, 1, 8, 6)))\n",
    "        glcm_props = np.stack(glcm_props, axis=4)\n",
    "        glcms = np.reshape(np.stack(glcms), (i, i, 128, 128, 6, 1, 8))\n",
    "        at_scales[i] = glcm_and_props(glcms, glcm_props)\n",
    "        collectAll()\n",
    "    return at_scales"
   ]
  },
  {
   "cell_type": "code",
   "execution_count": 85,
   "id": "b2792f5c-676d-4996-bab5-5a1a53e3630d",
   "metadata": {},
   "outputs": [
    {
     "data": {
      "application/vnd.jupyter.widget-view+json": {
       "model_id": "8877b0f117bc4cc4a09c7bb240201ce1",
       "version_major": 2,
       "version_minor": 0
      },
      "text/plain": [
       "  0%|          | 0/66 [00:00<?, ?it/s]"
      ]
     },
     "metadata": {},
     "output_type": "display_data"
    },
    {
     "data": {
      "application/vnd.jupyter.widget-view+json": {
       "model_id": "f832d5a98f1045919a70cca309fcd0ee",
       "version_major": 2,
       "version_minor": 0
      },
      "text/plain": [
       "  0%|          | 0/1 [00:00<?, ?it/s]"
      ]
     },
     "metadata": {},
     "output_type": "display_data"
    },
    {
     "data": {
      "application/vnd.jupyter.widget-view+json": {
       "model_id": "993b9fb2a1d14cb59ac0f3bde179b198",
       "version_major": 2,
       "version_minor": 0
      },
      "text/plain": [
       "  0%|          | 0/16 [00:00<?, ?it/s]"
      ]
     },
     "metadata": {},
     "output_type": "display_data"
    },
    {
     "data": {
      "application/vnd.jupyter.widget-view+json": {
       "model_id": "866a915e91684ebf8733b8b7db2f0d3a",
       "version_major": 2,
       "version_minor": 0
      },
      "text/plain": [
       "  0%|          | 0/256 [00:00<?, ?it/s]"
      ]
     },
     "metadata": {},
     "output_type": "display_data"
    },
    {
     "name": "stderr",
     "output_type": "stream",
     "text": [
      "\n",
      "KeyboardInterrupt\n",
      "\n"
     ]
    }
   ],
   "source": [
    "#from multiprocess import Pool\n",
    "#p = Pool(2)\n",
    "#results = list(tqdm(p.imap(glcm_zooming_in, df['raws']), total=len(df.index)))\n",
    "df['glcm_zoomin'] = df.progress_apply(lambda x: glcm_zooming_in(x['raws']), axis=1)"
   ]
  },
  {
   "cell_type": "code",
   "execution_count": null,
   "id": "8bdee4e0-5f8b-4702-88a0-0c3c6ba35771",
   "metadata": {},
   "outputs": [],
   "source": [
    "df.to_pickle('./descending_quadrant.pickle')"
   ]
  },
  {
   "cell_type": "code",
   "execution_count": null,
   "id": "125bf826-7a03-4c1e-8848-76ba2da2b99e",
   "metadata": {},
   "outputs": [],
   "source": []
  }
 ],
 "metadata": {
  "kernelspec": {
   "display_name": "Python 3 (ipykernel)",
   "language": "python",
   "name": "python3"
  },
  "language_info": {
   "codemirror_mode": {
    "name": "ipython",
    "version": 3
   },
   "file_extension": ".py",
   "mimetype": "text/x-python",
   "name": "python",
   "nbconvert_exporter": "python",
   "pygments_lexer": "ipython3",
   "version": "3.10.9"
  }
 },
 "nbformat": 4,
 "nbformat_minor": 5
}
