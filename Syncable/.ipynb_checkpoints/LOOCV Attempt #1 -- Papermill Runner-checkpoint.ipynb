{
 "cells": [
  {
   "cell_type": "code",
   "execution_count": 2,
   "id": "7ffde189",
   "metadata": {},
   "outputs": [],
   "source": [
    "import papermill as pm\n",
    "from IPython.display import display, clear_output"
   ]
  },
  {
   "cell_type": "code",
   "execution_count": 4,
   "id": "35b31f5b",
   "metadata": {},
   "outputs": [],
   "source": [
    "bander1 = \"lambda x: x[:,4]\"\n",
    "pm.execute_notebook(\n",
    "   r'LOOCV Attempt #1 -- Papermilled.ipynb',\n",
    "   r'LOOCV Attempt 1 only means filter.ipynb',\n",
    "   parameters=dict(bander = bander1)\n",
    ")\n",
    "clear_output(wait=False)"
   ]
  },
  {
   "cell_type": "code",
   "execution_count": 3,
   "id": "ee76e128",
   "metadata": {},
   "outputs": [],
   "source": [
    "bander2 = \"lambda x: x[tuple(zip(*[(2,0), (2,4), (3,4), (4,1), (5,0), (5,4), (6,1), (7,4)]))]\"\n",
    "pm.execute_notebook(\n",
    "   r'LOOCV Attempt #1 -- Papermilled.ipynb',\n",
    "   r'LOOCV Attempt 1 selected filters.ipynb',\n",
    "   parameters=dict(bander = bander2)\n",
    ")\n",
    "clear_output(wait=False)"
   ]
  },
  {
   "cell_type": "code",
   "execution_count": 4,
   "id": "e724ab8b-435c-4662-b2f6-655d6ed639ac",
   "metadata": {},
   "outputs": [],
   "source": [
    "pm.execute_notebook(\n",
    "   r'LOOCV Attempt #1 -- Papermilled.ipynb',\n",
    "   r'LOOCV Attempt 1 selected + means filter.ipynb',\n",
    "   parameters=dict(bander = \"lambda x: x[:,4]\")\n",
    ")\n",
    "clear_output(wait=False)"
   ]
  },
  {
   "cell_type": "code",
   "execution_count": 13,
   "id": "146f6c19",
   "metadata": {},
   "outputs": [],
   "source": [
    "import numpy as np\n",
    "a = np.zeros(shape=(8,7))"
   ]
  },
  {
   "cell_type": "code",
   "execution_count": 27,
   "id": "fce6771f-f485-4649-9ac4-a6d836490757",
   "metadata": {},
   "outputs": [
    {
     "data": {
      "text/plain": [
       "(16,)"
      ]
     },
     "execution_count": 27,
     "metadata": {},
     "output_type": "execute_result"
    }
   ],
   "source": [
    "np.concatenate((a[tuple(zip(*[(2,0), (2,4), (3,4), (4,1), (5,0), (5,4), (6,1), (7,4)]))], a[:,4]))\\\n",
    "    .shape"
   ]
  },
  {
   "cell_type": "code",
   "execution_count": null,
   "id": "9498a006-18ed-4595-b44c-f8f84d07467c",
   "metadata": {},
   "outputs": [],
   "source": []
  }
 ],
 "metadata": {
  "kernelspec": {
   "display_name": "Python 3 (ipykernel)",
   "language": "python",
   "name": "python3"
  },
  "language_info": {
   "codemirror_mode": {
    "name": "ipython",
    "version": 3
   },
   "file_extension": ".py",
   "mimetype": "text/x-python",
   "name": "python",
   "nbconvert_exporter": "python",
   "pygments_lexer": "ipython3",
   "version": "3.10.9"
  }
 },
 "nbformat": 4,
 "nbformat_minor": 5
}
