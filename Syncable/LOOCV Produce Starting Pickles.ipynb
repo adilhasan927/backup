{
 "cells": [
  {
   "cell_type": "markdown",
   "id": "38349219",
   "metadata": {},
   "source": [
    "# Leave-One-Out Cross-Validation"
   ]
  },
  {
   "cell_type": "markdown",
   "id": "a1762e86",
   "metadata": {},
   "source": [
    "## Imports"
   ]
  },
  {
   "cell_type": "code",
   "execution_count": 6,
   "id": "06cf09eb",
   "metadata": {},
   "outputs": [],
   "source": [
    "import pandas as pd\n",
    "import numpy as np\n",
    "import matplotlib.pyplot as plt\n",
    "from osgeo import gdal\n",
    "import rasterio as rio\n",
    "import sklearn as sk\n",
    "import scipy as sc"
   ]
  },
  {
   "cell_type": "code",
   "execution_count": 7,
   "id": "d13f0629",
   "metadata": {},
   "outputs": [],
   "source": [
    "import tqdm\n",
    "#from tqdm import tqdm\n",
    "from tqdm.auto import tqdm # for notebooks\n",
    "tqdm.pandas()"
   ]
  },
  {
   "cell_type": "code",
   "execution_count": 8,
   "id": "222ff701",
   "metadata": {},
   "outputs": [],
   "source": [
    "import pickle\n",
    "import gc\n",
    "collectAll = lambda : gc.collect(0) + gc.collect(1) + gc.collect(2)"
   ]
  },
  {
   "cell_type": "code",
   "execution_count": 9,
   "id": "b29feea5",
   "metadata": {
    "scrolled": false
   },
   "outputs": [
    {
     "name": "stdout",
     "output_type": "stream",
     "text": [
      "INFO: Pandarallel will run on 4 workers.\n",
      "INFO: Pandarallel will use standard multiprocessing data transfer (pipe) to transfer data between the main process and workers.\n",
      "\n",
      "WARNING: You are on Windows. If you detect any issue with pandarallel, be sure you checked out the Troubleshooting page:\n",
      "https://nalepae.github.io/pandarallel/troubleshooting/\n"
     ]
    }
   ],
   "source": [
    "from pandarallel import pandarallel\n",
    "pandarallel.initialize(progress_bar=True)"
   ]
  },
  {
   "cell_type": "code",
   "execution_count": 10,
   "id": "177bf47f",
   "metadata": {},
   "outputs": [],
   "source": [
    "import itables\n",
    "from itables import show"
   ]
  },
  {
   "cell_type": "markdown",
   "id": "fb8f1f37",
   "metadata": {},
   "source": [
    "## Importing our data"
   ]
  },
  {
   "cell_type": "code",
   "execution_count": 66,
   "id": "52ee305b",
   "metadata": {},
   "outputs": [],
   "source": [
    "from pathlib import Path\n",
    "result = Path(\"./glcms for new work\").rglob(\"*.npz\")"
   ]
  },
  {
   "cell_type": "code",
   "execution_count": 67,
   "id": "658744ea",
   "metadata": {},
   "outputs": [],
   "source": [
    "df = pd.DataFrame(result, columns=['npz_path'])"
   ]
  },
  {
   "cell_type": "code",
   "execution_count": 68,
   "id": "b0bd01e4",
   "metadata": {},
   "outputs": [
    {
     "data": {
      "text/html": [
       "<div>\n",
       "<style scoped>\n",
       "    .dataframe tbody tr th:only-of-type {\n",
       "        vertical-align: middle;\n",
       "    }\n",
       "\n",
       "    .dataframe tbody tr th {\n",
       "        vertical-align: top;\n",
       "    }\n",
       "\n",
       "    .dataframe thead th {\n",
       "        text-align: right;\n",
       "    }\n",
       "</style>\n",
       "<table border=\"1\" class=\"dataframe\">\n",
       "  <thead>\n",
       "    <tr style=\"text-align: right;\">\n",
       "      <th></th>\n",
       "      <th>npz_path</th>\n",
       "    </tr>\n",
       "  </thead>\n",
       "  <tbody>\n",
       "    <tr>\n",
       "      <th>0</th>\n",
       "      <td>glcms for new work\\10May2021\\5rad_3step_64bins...</td>\n",
       "    </tr>\n",
       "    <tr>\n",
       "      <th>1</th>\n",
       "      <td>glcms for new work\\10May2021\\5rad_3step_64bins...</td>\n",
       "    </tr>\n",
       "    <tr>\n",
       "      <th>2</th>\n",
       "      <td>glcms for new work\\10May2021\\5rad_3step_64bins...</td>\n",
       "    </tr>\n",
       "    <tr>\n",
       "      <th>3</th>\n",
       "      <td>glcms for new work\\10May2021\\5rad_3step_64bins...</td>\n",
       "    </tr>\n",
       "    <tr>\n",
       "      <th>4</th>\n",
       "      <td>glcms for new work\\10May2021\\5rad_3step_64bins...</td>\n",
       "    </tr>\n",
       "  </tbody>\n",
       "</table>\n",
       "</div>"
      ],
      "text/plain": [
       "                                            npz_path\n",
       "0  glcms for new work\\10May2021\\5rad_3step_64bins...\n",
       "1  glcms for new work\\10May2021\\5rad_3step_64bins...\n",
       "2  glcms for new work\\10May2021\\5rad_3step_64bins...\n",
       "3  glcms for new work\\10May2021\\5rad_3step_64bins...\n",
       "4  glcms for new work\\10May2021\\5rad_3step_64bins..."
      ]
     },
     "execution_count": 68,
     "metadata": {},
     "output_type": "execute_result"
    }
   ],
   "source": [
    "df.head()"
   ]
  },
  {
   "cell_type": "code",
   "execution_count": 70,
   "id": "bca3e18b",
   "metadata": {},
   "outputs": [],
   "source": [
    "df['path_str_split'] = df['npz_path'].apply(lambda x: str(x)).str.split('\\\\')"
   ]
  },
  {
   "cell_type": "code",
   "execution_count": 75,
   "id": "28dd014e",
   "metadata": {},
   "outputs": [],
   "source": [
    "df['phase'] = df['path_str_split'].apply(lambda x: x[1]).astype(\"category\")"
   ]
  },
  {
   "cell_type": "code",
   "execution_count": 79,
   "id": "847b318d",
   "metadata": {},
   "outputs": [],
   "source": [
    "df['filename'] = df['path_str_split'].apply(lambda x: x[-1])"
   ]
  },
  {
   "cell_type": "code",
   "execution_count": 84,
   "id": "ad1d90dc",
   "metadata": {},
   "outputs": [],
   "source": [
    "df[['species', 'tree_id']] = df['filename'].str.split('_').apply(lambda x: pd.Series(x[:2]))"
   ]
  },
  {
   "cell_type": "code",
   "execution_count": 91,
   "id": "296bed6c",
   "metadata": {},
   "outputs": [],
   "source": [
    "df['species'] = df['species'].astype('category')"
   ]
  },
  {
   "cell_type": "code",
   "execution_count": 88,
   "id": "060147bd",
   "metadata": {},
   "outputs": [],
   "source": [
    "df['tree_id'] = df['tree_id'].str.split('.').apply(lambda x: x[0]).astype(\"int\")"
   ]
  },
  {
   "cell_type": "code",
   "execution_count": 93,
   "id": "86bd7dc9",
   "metadata": {},
   "outputs": [],
   "source": [
    "df_nv = df[['npz_path', 'phase', 'species', 'tree_id']]"
   ]
  },
  {
   "cell_type": "code",
   "execution_count": 95,
   "id": "e2803cfe",
   "metadata": {},
   "outputs": [
    {
     "data": {
      "text/html": [
       "<div>\n",
       "<style scoped>\n",
       "    .dataframe tbody tr th:only-of-type {\n",
       "        vertical-align: middle;\n",
       "    }\n",
       "\n",
       "    .dataframe tbody tr th {\n",
       "        vertical-align: top;\n",
       "    }\n",
       "\n",
       "    .dataframe thead th {\n",
       "        text-align: right;\n",
       "    }\n",
       "</style>\n",
       "<table border=\"1\" class=\"dataframe\">\n",
       "  <thead>\n",
       "    <tr style=\"text-align: right;\">\n",
       "      <th></th>\n",
       "      <th>npz_path</th>\n",
       "      <th>phase</th>\n",
       "      <th>species</th>\n",
       "      <th>tree_id</th>\n",
       "    </tr>\n",
       "  </thead>\n",
       "  <tbody>\n",
       "    <tr>\n",
       "      <th>0</th>\n",
       "      <td>glcms for new work\\10May2021\\5rad_3step_64bins...</td>\n",
       "      <td>10May2021</td>\n",
       "      <td>Alstonia Angulstiloba</td>\n",
       "      <td>14</td>\n",
       "    </tr>\n",
       "    <tr>\n",
       "      <th>1</th>\n",
       "      <td>glcms for new work\\10May2021\\5rad_3step_64bins...</td>\n",
       "      <td>10May2021</td>\n",
       "      <td>Alstonia Angulstiloba</td>\n",
       "      <td>20</td>\n",
       "    </tr>\n",
       "    <tr>\n",
       "      <th>2</th>\n",
       "      <td>glcms for new work\\10May2021\\5rad_3step_64bins...</td>\n",
       "      <td>10May2021</td>\n",
       "      <td>Bridelia Sp.</td>\n",
       "      <td>2</td>\n",
       "    </tr>\n",
       "    <tr>\n",
       "      <th>3</th>\n",
       "      <td>glcms for new work\\10May2021\\5rad_3step_64bins...</td>\n",
       "      <td>10May2021</td>\n",
       "      <td>Bridelia Sp.</td>\n",
       "      <td>22</td>\n",
       "    </tr>\n",
       "    <tr>\n",
       "      <th>4</th>\n",
       "      <td>glcms for new work\\10May2021\\5rad_3step_64bins...</td>\n",
       "      <td>10May2021</td>\n",
       "      <td>Calophyllum</td>\n",
       "      <td>25</td>\n",
       "    </tr>\n",
       "  </tbody>\n",
       "</table>\n",
       "</div>"
      ],
      "text/plain": [
       "                                            npz_path      phase  \\\n",
       "0  glcms for new work\\10May2021\\5rad_3step_64bins...  10May2021   \n",
       "1  glcms for new work\\10May2021\\5rad_3step_64bins...  10May2021   \n",
       "2  glcms for new work\\10May2021\\5rad_3step_64bins...  10May2021   \n",
       "3  glcms for new work\\10May2021\\5rad_3step_64bins...  10May2021   \n",
       "4  glcms for new work\\10May2021\\5rad_3step_64bins...  10May2021   \n",
       "\n",
       "                 species  tree_id  \n",
       "0  Alstonia Angulstiloba       14  \n",
       "1  Alstonia Angulstiloba       20  \n",
       "2           Bridelia Sp.        2  \n",
       "3           Bridelia Sp.       22  \n",
       "4            Calophyllum       25  "
      ]
     },
     "execution_count": 95,
     "metadata": {},
     "output_type": "execute_result"
    }
   ],
   "source": [
    "df_nv.head()"
   ]
  },
  {
   "cell_type": "code",
   "execution_count": 11,
   "id": "bd926420",
   "metadata": {},
   "outputs": [],
   "source": [
    "def acorr(filename_or_arr, *args, maxstep=50, arr_passed=False, **kwargs):\n",
    "    import numpy as np\n",
    "    import gc\n",
    "    collectAll = lambda : gc.collect(0) + gc.collect(1) + gc.collect(2)\n",
    "    if arr_passed:\n",
    "        arr = filename_or_arr\n",
    "    else:\n",
    "        arr = np.load(filename_or_arr, allow_pickle=True)\n",
    "    arr = arr.astype(np.float32)[:,:,:,0]\n",
    "    acorrsarr = np.zeros((maxstep+1,maxstep*2+1,*arr.shape[2:]), dtype='float32')\n",
    "    arr -= np.median(arr, axis=(0,1), keepdims=True)\n",
    "    for vstep in range(0,maxstep+1):\n",
    "        for hstep in range(-maxstep,maxstep+1):\n",
    "            a = arr\n",
    "            if vstep == 0:\n",
    "                a1 = a2 = a\n",
    "            elif vstep > 0:\n",
    "                a1 = a[vstep:]\n",
    "                a2 = a[:-vstep]\n",
    "            if hstep > 0:\n",
    "                a1 = a1[:,hstep:]\n",
    "                a2 = a2[:,:-hstep]\n",
    "            elif hstep < 0:\n",
    "                a1 = a1[:,:hstep]\n",
    "                a2 = a2[:,-hstep:]\n",
    "            acorr = np.sum(np.multiply(a1, a2), (0, 1))\n",
    "            olapsz = a1.size\n",
    "            acorr /= olapsz\n",
    "            acorrsarr[vstep][hstep+maxstep] = acorr\n",
    "    true_points = np.argwhere(np.nan_to_num(acorrsarr))\n",
    "    top_left = true_points.min(axis=0)\n",
    "    bottom_right = true_points.max(axis=0)\n",
    "    out = acorrsarr[top_left[0]:bottom_right[0]+1,  # plus 1 because slice isn't\n",
    "                    top_left[1]:bottom_right[1]+1]  # inclusive\n",
    "    collectAll()\n",
    "    return out\n",
    "\n",
    "def postfacto_fix(acorrsarr):\n",
    "    true_points = np.argwhere(np.nan_to_num(acorrsarr))\n",
    "    top_left = true_points.min(axis=0)\n",
    "    bottom_right = true_points.max(axis=0)\n",
    "    out = acorrsarr[top_left[0]:bottom_right[0]+1,  # plus 1 because slice isn't\n",
    "                    top_left[1]:bottom_right[1]+1]  # inclusive\n",
    "    collectAll()\n",
    "    return out"
   ]
  },
  {
   "cell_type": "code",
   "execution_count": 84,
   "id": "b97ca783",
   "metadata": {},
   "outputs": [],
   "source": [
    "maxstep = 50"
   ]
  },
  {
   "cell_type": "code",
   "execution_count": null,
   "id": "77bbc95b",
   "metadata": {
    "scrolled": true
   },
   "outputs": [
    {
     "data": {
      "application/vnd.jupyter.widget-view+json": {
       "model_id": "01356a709f67442bb136f75c6638f282",
       "version_major": 2,
       "version_minor": 0
      },
      "text/plain": [
       "VBox(children=(HBox(children=(IntProgress(value=0, description='0.00%', max=17), Label(value='0 / 17'))), HBox…"
      ]
     },
     "metadata": {},
     "output_type": "display_data"
    }
   ],
   "source": [
    "df['acorr_raw'] = df['npz_path'].parallel_apply(acorr)\n",
    "df.head()"
   ]
  },
  {
   "cell_type": "code",
   "execution_count": 12,
   "id": "e53dd8f8",
   "metadata": {},
   "outputs": [
    {
     "data": {
      "application/vnd.jupyter.widget-view+json": {
       "model_id": "11ff04d440084088b1365b3572c9208a",
       "version_major": 2,
       "version_minor": 0
      },
      "text/plain": [
       "  0%|          | 0/67 [00:00<?, ?it/s]"
      ]
     },
     "metadata": {},
     "output_type": "display_data"
    }
   ],
   "source": [
    "df['acorr_raw'] = df['acorr_raw'].progress_apply(postfacto_fix)"
   ]
  },
  {
   "cell_type": "code",
   "execution_count": null,
   "id": "f8bdf801",
   "metadata": {},
   "outputs": [],
   "source": [
    "def acorrsarr_visualise(acorrsarr):\n",
    "    maxstep = min(acorrsarr.shape[0]-1, acorrsarr.shape[1//2]-1)\n",
    "    Z = acorrsarr[:,maxstep:]\n",
    "    diagsabsavg_r = np.stack([np.average(np.abs(Z[::-1,:].diagonal(i)), axis=1)\n",
    "                              for i in range(-Z.shape[0]+1,Z.shape[1])])    \n",
    "    Z = acorrsarr[:,:maxstep+1][:,::-1]\n",
    "    diagsabsavg_l = np.stack([np.average(np.abs(Z[::-1,:].diagonal(i)), axis=1)\n",
    "                              for i in range(-Z.shape[0]+1,Z.shape[1])])\n",
    "    diagsabsavg_diag_avg = (diagsabsavg_r + diagsabsavg_l) / 2\n",
    "    diagsabsavg_diag_diff = np.abs(diagsabsavg_r - diagsabsavg_l)\n",
    "    diagsabsavg = np.vstack((diagsabsavg_diag_avg, diagsabsavg_diag_diff))\n",
    "    return diagsabsavg"
   ]
  },
  {
   "cell_type": "code",
   "execution_count": 79,
   "id": "dc93e986",
   "metadata": {
    "scrolled": false
   },
   "outputs": [
    {
     "data": {
      "text/plain": [
       "<matplotlib.image.AxesImage at 0x1e4f362f190>"
      ]
     },
     "execution_count": 79,
     "metadata": {},
     "output_type": "execute_result"
    },
    {
     "data": {
      "image/png": "[encoded data removed]",
      "text/plain": [
       "<Figure size 640x480 with 1 Axes>"
      ]
     },
     "metadata": {},
     "output_type": "display_data"
    }
   ],
   "source": [
    "plt.imshow(df['acorr_raw'][45][:,:,0,0])"
   ]
  },
  {
   "cell_type": "code",
   "execution_count": 80,
   "id": "8afc1b65",
   "metadata": {},
   "outputs": [
    {
     "data": {
      "text/plain": [
       "array([[-7.5996045e-06, -1.2628151e-06,  4.9815771e-06, ...,\n",
       "         4.9815771e-06, -1.2628151e-06, -7.5996045e-06],\n",
       "       [ 4.6751126e-07,  6.7460842e-06,  1.1610520e-05, ...,\n",
       "         3.7077443e-06, -2.9423441e-06, -8.6080727e-06],\n",
       "       [ 1.5228974e-05,  2.0019408e-05,  2.1800379e-05, ...,\n",
       "         4.7425469e-06, -1.1197095e-06, -5.8302644e-06],\n",
       "       ...,\n",
       "       [-3.8276725e-05, -4.6029836e-05, -5.2421125e-05, ...,\n",
       "         5.0173177e-05, -1.5810083e-05, -8.7712084e-05],\n",
       "       [           nan,            nan,            nan, ...,\n",
       "                   nan,            nan,            nan],\n",
       "       [           nan,            nan,            nan, ...,\n",
       "                   nan,            nan,            nan]], dtype=float32)"
      ]
     },
     "execution_count": 80,
     "metadata": {},
     "output_type": "execute_result"
    }
   ],
   "source": [
    "df['acorr_raw'][45][:,:,0,0]"
   ]
  },
  {
   "cell_type": "code",
   "execution_count": 10,
   "id": "f4799d00",
   "metadata": {},
   "outputs": [],
   "source": [
    "def acorrsarr_reduce(acorrsarr):\n",
    "    midpoint = acorrsarr.shape[1]//2\n",
    "    Z = acorrsarr[:,midpoint:]\n",
    "    diagsabsavg_r = np.stack([np.average(np.abs(Z[::-1,:].diagonal(i)), axis=1)\n",
    "                              for i in range(-Z.shape[0]+1,Z.shape[1])])    \n",
    "    Z = acorrsarr[:,:midpoint+1][:,::-1]\n",
    "    diagsabsavg_l = np.stack([np.average(np.abs(Z[::-1,:].diagonal(i)), axis=1)\n",
    "                              for i in range(-Z.shape[0]+1,Z.shape[1])])\n",
    "    diagsabsavg_diag_avg = (diagsabsavg_r + diagsabsavg_l) / 2\n",
    "    diagsabsavg_diag_diff = np.abs(diagsabsavg_r - diagsabsavg_l)\n",
    "    diagsabsavg = np.stack((diagsabsavg_diag_avg, diagsabsavg_diag_diff))\n",
    "    return diagsabsavg"
   ]
  },
  {
   "cell_type": "code",
   "execution_count": 11,
   "id": "d8e9f4e3",
   "metadata": {
    "scrolled": false
   },
   "outputs": [
    {
     "data": {
      "application/vnd.jupyter.widget-view+json": {
       "model_id": "34eb99bdcbe54a49a12698c25d94a12c",
       "version_major": 2,
       "version_minor": 0
      },
      "text/plain": [
       "  0%|          | 0/67 [00:00<?, ?it/s]"
      ]
     },
     "metadata": {},
     "output_type": "display_data"
    }
   ],
   "source": [
    "df['acorr_diags'] = df['acorr_raw'].progress_apply(lambda x: acorrsarr_reduce(x[:,:,:,0]))"
   ]
  },
  {
   "cell_type": "code",
   "execution_count": 12,
   "id": "e58786b0",
   "metadata": {},
   "outputs": [],
   "source": [
    "def calc_glcm_stats(filename_or_arr, is_filename=True):\n",
    "    if is_filename:\n",
    "        arr = np.load(filename_or_arr, allow_pickle=True)\n",
    "    else:\n",
    "        arr = filename_or_arr\n",
    "    rval = np.mean(arr, axis=(0,1))\n",
    "    collectAll()\n",
    "    return rval"
   ]
  },
  {
   "cell_type": "code",
   "execution_count": 13,
   "id": "3856a053",
   "metadata": {
    "scrolled": true
   },
   "outputs": [
    {
     "data": {
      "application/vnd.jupyter.widget-view+json": {
       "model_id": "5698a55e38414b098a6a821ca80f2d63",
       "version_major": 2,
       "version_minor": 0
      },
      "text/plain": [
       "  0%|          | 0/67 [00:00<?, ?it/s]"
      ]
     },
     "metadata": {},
     "output_type": "display_data"
    }
   ],
   "source": [
    "df['glcm_stats'] = df['npz_path'].progress_apply(lambda x: calc_glcm_stats(x))"
   ]
  },
  {
   "cell_type": "code",
   "execution_count": 14,
   "id": "a364b098",
   "metadata": {},
   "outputs": [],
   "source": [
    "def calc_fft(filename_or_arr, is_filename=True):\n",
    "    if is_filename:\n",
    "        arr = np.load(filename_or_arr, allow_pickle=True)\n",
    "    else:\n",
    "        arr = filename_or_arr\n",
    "    rval = sc.fft.fftn(arr, axes=(0,1))\n",
    "    collectAll()\n",
    "    return rval"
   ]
  },
  {
   "cell_type": "code",
   "execution_count": 15,
   "id": "6564abca",
   "metadata": {
    "scrolled": true
   },
   "outputs": [
    {
     "data": {
      "application/vnd.jupyter.widget-view+json": {
       "model_id": "ae19342a5648413e8f14aec795f366c1",
       "version_major": 2,
       "version_minor": 0
      },
      "text/plain": [
       "  0%|          | 0/67 [00:00<?, ?it/s]"
      ]
     },
     "metadata": {},
     "output_type": "display_data"
    }
   ],
   "source": [
    "df['fft'] = df['npz_path'].progress_apply(lambda x: calc_fft(x))"
   ]
  },
  {
   "cell_type": "code",
   "execution_count": 29,
   "id": "14f5f1b9",
   "metadata": {},
   "outputs": [],
   "source": [
    "df.to_pickle(\"pickled_df_acorrs.pickle\")"
   ]
  },
  {
   "cell_type": "code",
   "execution_count": null,
   "id": "5969c845",
   "metadata": {},
   "outputs": [],
   "source": [
    "### Unpickle"
   ]
  },
  {
   "cell_type": "code",
   "execution_count": null,
   "id": "ffb441b3",
   "metadata": {
    "scrolled": true
   },
   "outputs": [],
   "source": [
    "df = pd.read_pickle(\"pickled_df_acorrs.pickle\")"
   ]
  },
  {
   "cell_type": "code",
   "execution_count": null,
   "id": "bc057cfe",
   "metadata": {},
   "outputs": [],
   "source": [
    "df_nv = df[['filename', 'phase', 'species', 'tree_id']]"
   ]
  },
  {
   "cell_type": "code",
   "execution_count": null,
   "id": "f1287f24",
   "metadata": {},
   "outputs": [],
   "source": [
    "df_nv.head(5)"
   ]
  },
  {
   "cell_type": "code",
   "execution_count": null,
   "id": "29e8decc",
   "metadata": {
    "scrolled": true
   },
   "outputs": [],
   "source": [
    "df['glcm_stats'][0].shape"
   ]
  },
  {
   "cell_type": "code",
   "execution_count": null,
   "id": "3c01d050",
   "metadata": {},
   "outputs": [],
   "source": [
    "### Repickle without acorr"
   ]
  },
  {
   "cell_type": "code",
   "execution_count": 4,
   "id": "55d46548",
   "metadata": {
    "scrolled": true
   },
   "outputs": [
    {
     "ename": "NameError",
     "evalue": "name 'df' is not defined",
     "output_type": "error",
     "traceback": [
      "\u001b[1;31m---------------------------------------------------------------------------\u001b[0m",
      "\u001b[1;31mNameError\u001b[0m                                 Traceback (most recent call last)",
      "Cell \u001b[1;32mIn[4], line 1\u001b[0m\n\u001b[1;32m----> 1\u001b[0m df_acorr \u001b[38;5;241m=\u001b[39m \u001b[43mdf\u001b[49m\n\u001b[0;32m      2\u001b[0m df \u001b[38;5;241m=\u001b[39m df_acorr\u001b[38;5;241m.\u001b[39mdrop([\u001b[38;5;124m\"\u001b[39m\u001b[38;5;124macorr_raw\u001b[39m\u001b[38;5;124m\"\u001b[39m, \u001b[38;5;124m\"\u001b[39m\u001b[38;5;124macorr_diags\u001b[39m\u001b[38;5;124m\"\u001b[39m, \u001b[38;5;124m\"\u001b[39m\u001b[38;5;124mfft\u001b[39m\u001b[38;5;124m\"\u001b[39m], axis\u001b[38;5;241m=\u001b[39m\u001b[38;5;241m1\u001b[39m)\n",
      "\u001b[1;31mNameError\u001b[0m: name 'df' is not defined"
     ]
    }
   ],
   "source": [
    "df_acorr = df\n",
    "df = df_acorr.drop([\"acorr_raw\", \"acorr_diags\", \"fft\"], axis=1)"
   ]
  },
  {
   "cell_type": "code",
   "execution_count": 5,
   "id": "0f7d2880",
   "metadata": {},
   "outputs": [
    {
     "ename": "NameError",
     "evalue": "name 'df' is not defined",
     "output_type": "error",
     "traceback": [
      "\u001b[1;31m---------------------------------------------------------------------------\u001b[0m",
      "\u001b[1;31mNameError\u001b[0m                                 Traceback (most recent call last)",
      "Cell \u001b[1;32mIn[5], line 1\u001b[0m\n\u001b[1;32m----> 1\u001b[0m \u001b[43mdf\u001b[49m\u001b[38;5;241m.\u001b[39minfo()\n",
      "\u001b[1;31mNameError\u001b[0m: name 'df' is not defined"
     ]
    }
   ],
   "source": [
    "df.info()"
   ]
  },
  {
   "cell_type": "code",
   "execution_count": 33,
   "id": "bc5ee355",
   "metadata": {},
   "outputs": [],
   "source": [
    "del df_acorr"
   ]
  },
  {
   "cell_type": "code",
   "execution_count": 34,
   "id": "89a1ec6f",
   "metadata": {},
   "outputs": [
    {
     "data": {
      "text/plain": [
       "552"
      ]
     },
     "execution_count": 34,
     "metadata": {},
     "output_type": "execute_result"
    }
   ],
   "source": [
    "collectAll()"
   ]
  },
  {
   "cell_type": "code",
   "execution_count": 35,
   "id": "8b0c8928",
   "metadata": {},
   "outputs": [],
   "source": [
    "df.to_pickle(\"pickled_df_no_extra\")"
   ]
  },
  {
   "cell_type": "code",
   "execution_count": null,
   "id": "143dbad8",
   "metadata": {},
   "outputs": [],
   "source": []
  }
 ],
 "metadata": {
  "kernelspec": {
   "display_name": "Python 3 (ipykernel)",
   "language": "python",
   "name": "python3"
  },
  "language_info": {
   "codemirror_mode": {
    "name": "ipython",
    "version": 3
   },
   "file_extension": ".py",
   "mimetype": "text/x-python",
   "name": "python",
   "nbconvert_exporter": "python",
   "pygments_lexer": "ipython3",
   "version": "3.10.9"
  }
 },
 "nbformat": 4,
 "nbformat_minor": 5
}
