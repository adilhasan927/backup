{
 "cells": [
  {
   "cell_type": "code",
   "execution_count": 5,
   "id": "193bddc2",
   "metadata": {},
   "outputs": [],
   "source": [
    "import pandas as pd\n",
    "import numpy as np\n",
    "import matplotlib.pyplot as plt\n",
    "from osgeo import gdal\n",
    "import rasterio as rio\n",
    "import sklearn as sk\n",
    "import scipy as sc"
   ]
  },
  {
   "cell_type": "markdown",
   "id": "3dc89599",
   "metadata": {},
   "source": [
    "### Unpickle"
   ]
  },
  {
   "cell_type": "code",
   "execution_count": 3,
   "id": "69d79181",
   "metadata": {},
   "outputs": [],
   "source": [
    "df = pd.read_pickle(\"pickled_df_no_extra\")"
   ]
  },
  {
   "cell_type": "code",
   "execution_count": 4,
   "id": "c310ca61",
   "metadata": {},
   "outputs": [
    {
     "data": {
      "text/html": [
       "<div>\n",
       "<style scoped>\n",
       "    .dataframe tbody tr th:only-of-type {\n",
       "        vertical-align: middle;\n",
       "    }\n",
       "\n",
       "    .dataframe tbody tr th {\n",
       "        vertical-align: top;\n",
       "    }\n",
       "\n",
       "    .dataframe thead th {\n",
       "        text-align: right;\n",
       "    }\n",
       "</style>\n",
       "<table border=\"1\" class=\"dataframe\">\n",
       "  <thead>\n",
       "    <tr style=\"text-align: right;\">\n",
       "      <th></th>\n",
       "      <th>npz_path</th>\n",
       "      <th>path_str_split</th>\n",
       "      <th>phase</th>\n",
       "      <th>filename</th>\n",
       "      <th>species</th>\n",
       "      <th>tree_id</th>\n",
       "      <th>glcm_stats</th>\n",
       "    </tr>\n",
       "  </thead>\n",
       "  <tbody>\n",
       "    <tr>\n",
       "      <th>0</th>\n",
       "      <td>glcms for new work\\10May2021\\5rad_3step_64bins...</td>\n",
       "      <td>[glcms for new work, 10May2021, 5rad_3step_64b...</td>\n",
       "      <td>10May2021</td>\n",
       "      <td>Alstonia Angulstiloba_14.npz</td>\n",
       "      <td>Alstonia Angulstiloba</td>\n",
       "      <td>14</td>\n",
       "      <td>[[0.8075106534090909, 0.24505527941210759, 0.0...</td>\n",
       "    </tr>\n",
       "    <tr>\n",
       "      <th>1</th>\n",
       "      <td>glcms for new work\\10May2021\\5rad_3step_64bins...</td>\n",
       "      <td>[glcms for new work, 10May2021, 5rad_3step_64b...</td>\n",
       "      <td>10May2021</td>\n",
       "      <td>Alstonia Angulstiloba_20.npz</td>\n",
       "      <td>Alstonia Angulstiloba</td>\n",
       "      <td>20</td>\n",
       "      <td>[[0.7945052682702144, 0.23907576273767697, 0.0...</td>\n",
       "    </tr>\n",
       "    <tr>\n",
       "      <th>2</th>\n",
       "      <td>glcms for new work\\10May2021\\5rad_3step_64bins...</td>\n",
       "      <td>[glcms for new work, 10May2021, 5rad_3step_64b...</td>\n",
       "      <td>10May2021</td>\n",
       "      <td>Bridelia Sp._2.npz</td>\n",
       "      <td>Bridelia Sp.</td>\n",
       "      <td>2</td>\n",
       "      <td>[[0.7340322865833158, 0.16942896882625028, 0.0...</td>\n",
       "    </tr>\n",
       "  </tbody>\n",
       "</table>\n",
       "</div>"
      ],
      "text/plain": [
       "                                            npz_path  \\\n",
       "0  glcms for new work\\10May2021\\5rad_3step_64bins...   \n",
       "1  glcms for new work\\10May2021\\5rad_3step_64bins...   \n",
       "2  glcms for new work\\10May2021\\5rad_3step_64bins...   \n",
       "\n",
       "                                      path_str_split      phase  \\\n",
       "0  [glcms for new work, 10May2021, 5rad_3step_64b...  10May2021   \n",
       "1  [glcms for new work, 10May2021, 5rad_3step_64b...  10May2021   \n",
       "2  [glcms for new work, 10May2021, 5rad_3step_64b...  10May2021   \n",
       "\n",
       "                       filename                species  tree_id  \\\n",
       "0  Alstonia Angulstiloba_14.npz  Alstonia Angulstiloba       14   \n",
       "1  Alstonia Angulstiloba_20.npz  Alstonia Angulstiloba       20   \n",
       "2            Bridelia Sp._2.npz           Bridelia Sp.        2   \n",
       "\n",
       "                                          glcm_stats  \n",
       "0  [[0.8075106534090909, 0.24505527941210759, 0.0...  \n",
       "1  [[0.7945052682702144, 0.23907576273767697, 0.0...  \n",
       "2  [[0.7340322865833158, 0.16942896882625028, 0.0...  "
      ]
     },
     "execution_count": 4,
     "metadata": {},
     "output_type": "execute_result"
    }
   ],
   "source": [
    "df.head(3)"
   ]
  },
  {
   "cell_type": "code",
   "execution_count": 7,
   "id": "aa9dffcb",
   "metadata": {},
   "outputs": [],
   "source": [
    "df['glcm_arrs'] = df['npz_path'].apply(lambda x: np.load(x, allow_pickle=True))"
   ]
  },
  {
   "cell_type": "code",
   "execution_count": 19,
   "id": "b0f55a4f",
   "metadata": {},
   "outputs": [
    {
     "data": {
      "text/plain": [
       "(49, 56)"
      ]
     },
     "execution_count": 19,
     "metadata": {},
     "output_type": "execute_result"
    }
   ],
   "source": [
    "def mindims(ser_of_arr):\n",
    "    return (ser_of_arr.apply(lambda x: x[:,0,0,0].size).min(),\n",
    "            ser_of_arr.apply(lambda x: x[0,:,0,0].size).min())\n",
    "mindims(df['glcm_arrs'])"
   ]
  }
 ],
 "metadata": {
  "kernelspec": {
   "display_name": "Python 3 (ipykernel)",
   "language": "python",
   "name": "python3"
  },
  "language_info": {
   "codemirror_mode": {
    "name": "ipython",
    "version": 3
   },
   "file_extension": ".py",
   "mimetype": "text/x-python",
   "name": "python",
   "nbconvert_exporter": "python",
   "pygments_lexer": "ipython3",
   "version": "3.10.9"
  }
 },
 "nbformat": 4,
 "nbformat_minor": 5
}
