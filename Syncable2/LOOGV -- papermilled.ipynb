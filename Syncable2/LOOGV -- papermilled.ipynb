{
 "cells": [
  {
   "cell_type": "markdown",
   "id": "0a829e05",
   "metadata": {},
   "source": [
    "# LOOGV -- papermilled"
   ]
  },
  {
   "cell_type": "markdown",
   "id": "958035fe-e7a4-4f32-8457-65e56da95791",
   "metadata": {},
   "source": [
    "## Inputs"
   ]
  },
  {
   "cell_type": "code",
   "execution_count": 2,
   "id": "6f544a6d",
   "metadata": {
    "tags": [
     "parameters"
    ]
   },
   "outputs": [],
   "source": [
    "filename = None\n",
    "cats = None\n",
    "trans_list_fname = None"
   ]
  },
  {
   "cell_type": "markdown",
   "id": "e46754a5-1548-4759-836e-e1f223e46c0a",
   "metadata": {
    "papermill": {
     "duration": 0.00571,
     "end_time": "2023-06-17T00:35:31.925120",
     "exception": false,
     "start_time": "2023-06-17T00:35:31.919410",
     "status": "completed"
    },
    "tags": []
   },
   "source": [
    "## Imports"
   ]
  },
  {
   "cell_type": "code",
   "execution_count": 17,
   "id": "18298596-1790-431a-83d9-e90688f61d3b",
   "metadata": {
    "papermill": {
     "duration": 1.188439,
     "end_time": "2023-06-17T00:35:33.120275",
     "exception": false,
     "start_time": "2023-06-17T00:35:31.931836",
     "status": "completed"
    },
    "tags": []
   },
   "outputs": [],
   "source": [
    "import pandas as pd\n",
    "import numpy as np\n",
    "import matplotlib.pyplot as plt\n",
    "from osgeo import gdal\n",
    "import rasterio as rio\n",
    "import sklearn as sk\n",
    "import scipy as sc"
   ]
  },
  {
   "cell_type": "code",
   "execution_count": 18,
   "id": "3f93d5bd-191b-4997-8769-769b248ed517",
   "metadata": {
    "papermill": {
     "duration": 0.065735,
     "end_time": "2023-06-17T00:35:33.192472",
     "exception": false,
     "start_time": "2023-06-17T00:35:33.126737",
     "status": "completed"
    },
    "tags": []
   },
   "outputs": [],
   "source": [
    "import tqdm\n",
    "#from tqdm import tqdm\n",
    "from tqdm.auto import tqdm # for notebooks\n",
    "tqdm.pandas()"
   ]
  },
  {
   "cell_type": "code",
   "execution_count": 19,
   "id": "93da7077-db5e-42c8-85be-4ed8c4c55fec",
   "metadata": {
    "papermill": {
     "duration": 0.012565,
     "end_time": "2023-06-17T00:35:33.211400",
     "exception": false,
     "start_time": "2023-06-17T00:35:33.198835",
     "status": "completed"
    },
    "tags": []
   },
   "outputs": [],
   "source": [
    "import pickle\n",
    "import gc\n",
    "collectAll = lambda : gc.collect(0) + gc.collect(1) + gc.collect(2)"
   ]
  },
  {
   "cell_type": "code",
   "execution_count": 20,
   "id": "557bbad8-7361-4be2-8b40-bedbd7c8e654",
   "metadata": {
    "papermill": {
     "duration": 0.035187,
     "end_time": "2023-06-17T00:35:33.252117",
     "exception": false,
     "start_time": "2023-06-17T00:35:33.216930",
     "status": "completed"
    },
    "tags": []
   },
   "outputs": [
    {
     "name": "stdout",
     "output_type": "stream",
     "text": [
      "INFO: Pandarallel will run on 4 workers.\n",
      "INFO: Pandarallel will use Memory file system to transfer data between the main process and workers.\n"
     ]
    }
   ],
   "source": [
    "from pandarallel import pandarallel\n",
    "pandarallel.initialize(progress_bar=True)"
   ]
  },
  {
   "cell_type": "code",
   "execution_count": 21,
   "id": "8a3993da-c062-476c-afd9-f6aced35d7df",
   "metadata": {
    "papermill": {
     "duration": 0.016405,
     "end_time": "2023-06-17T00:35:33.274349",
     "exception": false,
     "start_time": "2023-06-17T00:35:33.257944",
     "status": "completed"
    },
    "tags": []
   },
   "outputs": [],
   "source": [
    "import itables\n",
    "from itables import show"
   ]
  },
  {
   "cell_type": "markdown",
   "id": "ba580563-9b5c-4185-a090-63a46bf5e511",
   "metadata": {
    "papermill": {
     "duration": 0.005657,
     "end_time": "2023-06-17T00:35:33.286113",
     "exception": false,
     "start_time": "2023-06-17T00:35:33.280456",
     "status": "completed"
    },
    "tags": []
   },
   "source": [
    "## Prologue"
   ]
  },
  {
   "cell_type": "code",
   "execution_count": 39,
   "id": "6b711bb9-086f-4e96-9f12-0b9d955e92ea",
   "metadata": {
    "papermill": {
     "duration": 0.095369,
     "end_time": "2023-06-17T00:35:33.386784",
     "exception": false,
     "start_time": "2023-06-17T00:35:33.291415",
     "status": "completed"
    },
    "tags": []
   },
   "outputs": [],
   "source": [
    "df = pd.read_pickle(filename).loc[(slice(None),slice(8),slice(None)),:]\n",
    "X = df[[i for i in df.columns if isinstance(i, tuple)]]\n",
    "cats = list(cats)\n",
    "y = df['name'].apply(lambda x: cats.index(x))\n",
    "groups = df['bc_index_2']\n",
    "with open(trans_list_fname, 'rb') as f:\n",
    "    trans_list = pickle.load(f)"
   ]
  },
  {
   "cell_type": "code",
   "execution_count": 40,
   "id": "576e8000-ba7a-422e-b2a5-b19a9e3ddec7",
   "metadata": {
    "papermill": {
     "duration": 0.016527,
     "end_time": "2023-06-17T00:35:33.409538",
     "exception": false,
     "start_time": "2023-06-17T00:35:33.393011",
     "status": "completed"
    },
    "tags": []
   },
   "outputs": [],
   "source": [
    "from sklearn.svm import SVC\n",
    "from sklearn.kernel_approximation import RBFSampler\n",
    "from sklearn.linear_model import SGDClassifier\n",
    "from sklearn.pipeline import Pipeline\n",
    "from sklearn.model_selection import cross_val_score\n",
    "from sklearn.model_selection import LeaveOneGroupOut"
   ]
  },
  {
   "cell_type": "code",
   "execution_count": 41,
   "id": "97ee1e73-0213-4a14-8677-5b9256e43728",
   "metadata": {
    "papermill": {
     "duration": 0.015523,
     "end_time": "2023-06-17T00:35:33.432025",
     "exception": false,
     "start_time": "2023-06-17T00:35:33.416502",
     "status": "completed"
    },
    "tags": []
   },
   "outputs": [],
   "source": [
    "clf = Pipeline([*trans_list, ('svm', SVC(class_weight='balanced'))], memory='./cache')"
   ]
  },
  {
   "cell_type": "code",
   "execution_count": 42,
   "id": "8285f4fe-2ba8-461f-96a8-2492455aee54",
   "metadata": {
    "papermill": {
     "duration": 0.0118,
     "end_time": "2023-06-17T00:35:33.450067",
     "exception": false,
     "start_time": "2023-06-17T00:35:33.438267",
     "status": "completed"
    },
    "tags": []
   },
   "outputs": [],
   "source": [
    "loo = LeaveOneGroupOut()"
   ]
  },
  {
   "cell_type": "markdown",
   "id": "366b6f55-3a0a-4152-881f-440789d77cab",
   "metadata": {
    "papermill": {
     "duration": 0.004991,
     "end_time": "2023-06-17T00:35:33.460727",
     "exception": false,
     "start_time": "2023-06-17T00:35:33.455736",
     "status": "completed"
    },
    "tags": []
   },
   "source": [
    "## SVM First Try"
   ]
  },
  {
   "cell_type": "markdown",
   "id": "83a1b1ff-8a3d-43ea-ade3-a04dacc069ee",
   "metadata": {
    "papermill": {
     "duration": 0.004558,
     "end_time": "2023-06-17T00:35:33.470420",
     "exception": false,
     "start_time": "2023-06-17T00:35:33.465862",
     "status": "completed"
    },
    "tags": []
   },
   "source": [
    "#### loogv Score"
   ]
  },
  {
   "cell_type": "code",
   "execution_count": 43,
   "id": "a83f900a-1b9a-4ca0-8d51-fdcc3caf810d",
   "metadata": {
    "papermill": {
     "duration": 0.691208,
     "end_time": "2023-06-17T00:35:34.165970",
     "exception": true,
     "start_time": "2023-06-17T00:35:33.474762",
     "status": "failed"
    },
    "tags": []
   },
   "outputs": [
    {
     "data": {
      "text/plain": [
       "0.05934343434343435"
      ]
     },
     "execution_count": 43,
     "metadata": {},
     "output_type": "execute_result"
    }
   ],
   "source": [
    "clf.set_params(svm__C=100, svm__gamma=0.0058, svm__random_state=12)\n",
    "scores = cross_val_score(clf, X, y,\n",
    "                         groups=groups, cv=loo, n_jobs=4)\n",
    "scores.mean()"
   ]
  },
  {
   "cell_type": "code",
   "execution_count": 44,
   "id": "2ca93f8e-c245-4ffe-a29f-14031da58707",
   "metadata": {
    "papermill": {
     "duration": null,
     "end_time": null,
     "exception": null,
     "start_time": null,
     "status": "pending"
    },
    "tags": []
   },
   "outputs": [
    {
     "data": {
      "text/plain": [
       "0.5092592592592593"
      ]
     },
     "execution_count": 44,
     "metadata": {},
     "output_type": "execute_result"
    }
   ],
   "source": [
    "clf.fit(X, y).score(X, y)"
   ]
  },
  {
   "cell_type": "markdown",
   "id": "c51b2054-9266-4abf-a918-016bf013104c",
   "metadata": {
    "papermill": {
     "duration": null,
     "end_time": null,
     "exception": null,
     "start_time": null,
     "status": "pending"
    },
    "tags": []
   },
   "source": [
    "### Hyperparameter tuning"
   ]
  },
  {
   "cell_type": "markdown",
   "id": "07fbc29b-7c14-4b66-95c0-fd8ec95b2ca8",
   "metadata": {
    "papermill": {
     "duration": null,
     "end_time": null,
     "exception": null,
     "start_time": null,
     "status": "pending"
    },
    "tags": []
   },
   "source": [
    "#### How does training accuracy vary with C and gamma? "
   ]
  },
  {
   "cell_type": "code",
   "execution_count": 46,
   "id": "0a72c356-4f5f-4a83-af40-d6e9193ac02f",
   "metadata": {
    "papermill": {
     "duration": null,
     "end_time": null,
     "exception": null,
     "start_time": null,
     "status": "pending"
    },
    "tags": []
   },
   "outputs": [
    {
     "data": {
      "application/vnd.jupyter.widget-view+json": {
       "model_id": "85a8f5b73a3b4412b84005df8c213b78",
       "version_major": 2,
       "version_minor": 0
      },
      "text/plain": [
       "  0%|          | 0/200 [00:00<?, ?it/s]"
      ]
     },
     "metadata": {},
     "output_type": "display_data"
    }
   ],
   "source": [
    "c_scores = []\n",
    "for c in tqdm(np.logspace(-5, 5, num=200)):\n",
    "    clf.set_params(svm__C=c, svm__gamma='scale', svm__random_state=12)\n",
    "    score = clf\\\n",
    "        .fit(X, y)\\\n",
    "        .score(X, y)\n",
    "    c_scores.append((c, score))\n",
    "c_scores = pd.DataFrame(c_scores, columns=['c', 'score'])"
   ]
  },
  {
   "cell_type": "code",
   "execution_count": 47,
   "id": "8d0478b0-c825-4100-bf85-092db353f518",
   "metadata": {
    "papermill": {
     "duration": null,
     "end_time": null,
     "exception": null,
     "start_time": null,
     "status": "pending"
    },
    "tags": []
   },
   "outputs": [
    {
     "data": {
      "text/plain": [
       "[<matplotlib.lines.Line2D at 0x7f336c28ad70>]"
      ]
     },
     "execution_count": 47,
     "metadata": {},
     "output_type": "execute_result"
    },
    {
     "data": {
      "image/png": "[encoded data removed]",
      "text/plain": [
       "<Figure size 640x480 with 1 Axes>"
      ]
     },
     "metadata": {},
     "output_type": "display_data"
    }
   ],
   "source": [
    "plt.semilogx(c_scores['c'], c_scores['score'])"
   ]
  },
  {
   "cell_type": "code",
   "execution_count": 49,
   "id": "88596896-cc1c-4769-9fdd-c6b09113679b",
   "metadata": {
    "papermill": {
     "duration": null,
     "end_time": null,
     "exception": null,
     "start_time": null,
     "status": "pending"
    },
    "tags": []
   },
   "outputs": [
    {
     "data": {
      "application/vnd.jupyter.widget-view+json": {
       "model_id": "9a40099b45004fe18744c7fffaaad9eb",
       "version_major": 2,
       "version_minor": 0
      },
      "text/plain": [
       "  0%|          | 0/200 [00:00<?, ?it/s]"
      ]
     },
     "metadata": {},
     "output_type": "display_data"
    }
   ],
   "source": [
    "gamma_scores = []\n",
    "for gamma in tqdm(np.logspace(-5, 5, num=200)):\n",
    "    clf.set_params(svm__C=100, svm__gamma=gamma, svm__random_state=12)\n",
    "    score = clf\\\n",
    "        .fit(X, y)\\\n",
    "        .score(X, y)\n",
    "    gamma_scores.append((gamma, score))\n",
    "gamma_scores = pd.DataFrame(gamma_scores, columns=['gamma', 'score'])"
   ]
  },
  {
   "cell_type": "code",
   "execution_count": 50,
   "id": "47e4f8eb-5652-4754-a78b-0ab93b49e496",
   "metadata": {
    "papermill": {
     "duration": null,
     "end_time": null,
     "exception": null,
     "start_time": null,
     "status": "pending"
    },
    "tags": []
   },
   "outputs": [
    {
     "data": {
      "text/plain": [
       "[<matplotlib.lines.Line2D at 0x7f335d783640>]"
      ]
     },
     "execution_count": 50,
     "metadata": {},
     "output_type": "execute_result"
    },
    {
     "data": {
      "image/png": "[encoded data removed]",
      "text/plain": [
       "<Figure size 640x480 with 1 Axes>"
      ]
     },
     "metadata": {},
     "output_type": "display_data"
    }
   ],
   "source": [
    "plt.semilogx(gamma_scores['gamma'], gamma_scores['score'])"
   ]
  },
  {
   "cell_type": "code",
   "execution_count": null,
   "id": "5505fab1-2fe5-4e81-ad74-f970a4b21081",
   "metadata": {
    "papermill": {
     "duration": null,
     "end_time": null,
     "exception": null,
     "start_time": null,
     "status": "pending"
    },
    "tags": []
   },
   "outputs": [
    {
     "data": {
      "application/vnd.jupyter.widget-view+json": {
       "model_id": "146e9ed5562f4305a6d41bd0a65cb55d",
       "version_major": 2,
       "version_minor": 0
      },
      "text/plain": [
       "  0%|          | 0/900 [00:00<?, ?it/s]"
      ]
     },
     "metadata": {},
     "output_type": "display_data"
    }
   ],
   "source": [
    "cgamma_scores = []\n",
    "logspace = np.logspace(-5, 5, num=30)\n",
    "meshgrid = np.meshgrid(logspace, logspace)\n",
    "for c, gamma in tqdm(list(zip(*[i.flatten() for i in meshgrid]))):\n",
    "    clf.set_params(svm__C=c, svm__gamma=gamma, svm__random_state=12)\n",
    "    score = clf\\\n",
    "        .fit(X, y)\\\n",
    "        .score(X, y)\n",
    "    cgamma_scores.append((c, gamma, score))\n",
    "cgamma_scores = pd.DataFrame(cgamma_scores, columns=['c', 'gamma', 'score'])"
   ]
  },
  {
   "cell_type": "code",
   "execution_count": null,
   "id": "7344b327-8298-465e-8749-e7fe83ba30ac",
   "metadata": {
    "papermill": {
     "duration": null,
     "end_time": null,
     "exception": null,
     "start_time": null,
     "status": "pending"
    },
    "tags": []
   },
   "outputs": [],
   "source": [
    "import plotly\n",
    "import plotly.graph_objects as go\n",
    "import pandas as pd\n",
    "import numpy as np\n",
    "import math\n",
    "X, Y, Z = np.log(meshgrid[0]), np.log(meshgrid[1]), cgamma_scores['score']\\\n",
    "    .to_numpy()\\\n",
    "    .reshape(-1, int(math.sqrt(len(cgamma_scores['score']))))\n",
    "fig = go.Figure(data=[go.Surface(z=Z, x=X, y=Y)])\n",
    "fig.update_xaxes(type=\"log\")\n",
    "fig.update_yaxes(type=\"log\")\n",
    "fig.show()"
   ]
  },
  {
   "cell_type": "markdown",
   "id": "8ddd6a37-779d-4be8-91d7-f548806a44b1",
   "metadata": {
    "papermill": {
     "duration": null,
     "end_time": null,
     "exception": null,
     "start_time": null,
     "status": "pending"
    },
    "tags": []
   },
   "source": [
    "#### How does non-loogv test accuracy vary with C and gamma?"
   ]
  },
  {
   "cell_type": "code",
   "execution_count": null,
   "id": "688ba1ee-f899-44d8-9a08-cc337b7bd0c1",
   "metadata": {
    "papermill": {
     "duration": null,
     "end_time": null,
     "exception": null,
     "start_time": null,
     "status": "pending"
    },
    "tags": []
   },
   "outputs": [],
   "source": [
    "train = df[df['split'] == 'Train']\n",
    "test = df[df['split'] == 'Test']\n",
    "X_train = X.loc[train.index]\n",
    "y_train = y.loc[train.index]\n",
    "X_test = X.loc[test.index]\n",
    "y_test = y.loc[test.index]"
   ]
  },
  {
   "cell_type": "code",
   "execution_count": null,
   "id": "0476404c-54e7-4be6-8493-ca941755f1d6",
   "metadata": {
    "papermill": {
     "duration": null,
     "end_time": null,
     "exception": null,
     "start_time": null,
     "status": "pending"
    },
    "tags": []
   },
   "outputs": [],
   "source": [
    "c_scores = []\n",
    "for c in np.logspace(-5, 5, num=200):\n",
    "    clf.set_params(svm__C=c, svm__gamma='scale', svm__random_state=12)\n",
    "    score = clf\\\n",
    "        .fit(X_train, y_train)\\\n",
    "        .score(X_test, y_test)\n",
    "    c_scores.append((c, score))\n",
    "c_scores = pd.DataFrame(c_scores, columns=['c', 'score'])"
   ]
  },
  {
   "cell_type": "code",
   "execution_count": null,
   "id": "a3441cd5-d6a8-4a49-a5e6-13e0150670c4",
   "metadata": {
    "papermill": {
     "duration": null,
     "end_time": null,
     "exception": null,
     "start_time": null,
     "status": "pending"
    },
    "tags": []
   },
   "outputs": [],
   "source": [
    "plt.semilogx(c_scores['c'], c_scores['score'])"
   ]
  },
  {
   "cell_type": "code",
   "execution_count": null,
   "id": "a61169d8-9e1f-42f4-9bc0-b46b8ca9379b",
   "metadata": {},
   "outputs": [],
   "source": [
    "gamma_scores = []\n",
    "for gamma in np.logspace(-5, 5, num=200):\n",
    "    clf.set_params(svm__C=100, svm__gamma=gamma, svm__random_state=12)\n",
    "    score = clf\\\n",
    "        .fit(X_train, y_train)\\\n",
    "        .score(X_test, y_test)\n",
    "    gamma_scores.append((gamma, score))\n",
    "gamma_scores = pd.DataFrame(gamma_scores, columns=['gamma', 'score'])"
   ]
  },
  {
   "cell_type": "code",
   "execution_count": null,
   "id": "46ec8d61-b752-49f9-a5cd-87e075941a3a",
   "metadata": {
    "papermill": {
     "duration": null,
     "end_time": null,
     "exception": null,
     "start_time": null,
     "status": "pending"
    },
    "tags": []
   },
   "outputs": [],
   "source": [
    "plt.semilogx(gamma_scores['gamma'], gamma_scores['score'])"
   ]
  },
  {
   "cell_type": "code",
   "execution_count": null,
   "id": "89e6f667-254c-48b2-b32b-9789480d2276",
   "metadata": {
    "papermill": {
     "duration": null,
     "end_time": null,
     "exception": null,
     "start_time": null,
     "status": "pending"
    },
    "tags": []
   },
   "outputs": [],
   "source": [
    "import plotly\n",
    "import plotly.graph_objects as go\n",
    "import pandas as pd\n",
    "import numpy as np\n",
    "import math\n",
    "\n",
    "from pandarallel import pandarallel\n",
    "pandarallel.initialize(progress_bar=True, nb_workers=8)\n",
    "\n",
    "def traintest_hyperparams(train, test):\n",
    "    cgamma_scores = []\n",
    "    logspace = np.logspace(-5, 5, num=30)\n",
    "    meshgrid = np.meshgrid(logspace, logspace)\n",
    "\n",
    "    def get_cgamma_scores(tup, svm=svm, make_pipeline=make_pipeline, StandardScaler=StandardScaler, train=train, test=test):\n",
    "        c, gamma = tup\n",
    "        clf.set_params(svm__C=c, svm__gamma=gamma, svm__random_state=12)\n",
    "        score = clf\\\n",
    "            .fit(X_train, y_train)\\\n",
    "            .score(X_test, y_test)\n",
    "        return (c, gamma, score)\n",
    "    cgamma_scores = pd.Series(zip(*[i.flatten() for i in meshgrid])).parallel_apply(get_cgamma_scores)\n",
    "    cgamma_scores = pd.DataFrame(cgamma_scores.to_list(), columns=['C', 'gamma', 'score'])\n",
    "\n",
    "    log_C, log_gamma, score = np.log(meshgrid[0]), np.log(meshgrid[1]), cgamma_scores['score']\\\n",
    "        .to_numpy()\\\n",
    "        .reshape(-1, int(math.sqrt(len(cgamma_scores['score']))))\n",
    "    fig = go.Figure(data=[go.Surface(z=score, x=log_gamma, y=log_C)])\n",
    "    fig.update_xaxes(type=\"log\")\n",
    "    fig.update_yaxes(type=\"log\")\n",
    "    fig.update_layout(scene = dict(\n",
    "                        xaxis_title='log(C)',\n",
    "                        yaxis_title='log(gamma)',\n",
    "                        zaxis_title='score'))\n",
    "    fig.show()"
   ]
  },
  {
   "cell_type": "code",
   "execution_count": null,
   "id": "0074a592-8c4c-4b8b-88b7-d29910d15f3d",
   "metadata": {
    "papermill": {
     "duration": null,
     "end_time": null,
     "exception": null,
     "start_time": null,
     "status": "pending"
    },
    "tags": []
   },
   "outputs": [],
   "source": [
    "traintest_hyperparams(train, test)"
   ]
  },
  {
   "cell_type": "code",
   "execution_count": null,
   "id": "de9078c5-2441-4737-bee3-65466eaea1fc",
   "metadata": {
    "papermill": {
     "duration": null,
     "end_time": null,
     "exception": null,
     "start_time": null,
     "status": "pending"
    },
    "tags": []
   },
   "outputs": [],
   "source": [
    "traintest_hyperparams(test, train)"
   ]
  },
  {
   "cell_type": "code",
   "execution_count": null,
   "id": "caaf286b-0f18-4813-9163-5797dd3c4fec",
   "metadata": {
    "papermill": {
     "duration": null,
     "end_time": null,
     "exception": null,
     "start_time": null,
     "status": "pending"
    },
    "tags": []
   },
   "outputs": [],
   "source": [
    "collectAll()"
   ]
  },
  {
   "cell_type": "markdown",
   "id": "7bb8dedb-ff4f-454b-a1f0-0c828e617a83",
   "metadata": {
    "papermill": {
     "duration": null,
     "end_time": null,
     "exception": null,
     "start_time": null,
     "status": "pending"
    },
    "tags": []
   },
   "source": [
    "#### How does loogv accuracy vary with C and gamma?"
   ]
  },
  {
   "cell_type": "code",
   "execution_count": null,
   "id": "349976a8-14ad-4ef9-bec3-15dcc954f639",
   "metadata": {
    "papermill": {
     "duration": null,
     "end_time": null,
     "exception": null,
     "start_time": null,
     "status": "pending"
    },
    "scrolled": true,
    "tags": []
   },
   "outputs": [],
   "source": [
    "from tqdm.notebook import tqdm \n",
    "c_scores = []\n",
    "for c in tqdm(np.logspace(-5, 5, num=200)):\n",
    "    clf.set_params(svm__C=c, svm__gamma='scale', svm__random_state=12)\n",
    "    scores = cross_val_score(clf, X, y,\n",
    "                             groups=groups,\n",
    "                             cv=loo, n_jobs=4)\n",
    "    c_scores.append((c, scores.mean()))\n",
    "c_scores = pd.DataFrame(c_scores, columns=['c', 'score'])"
   ]
  },
  {
   "cell_type": "code",
   "execution_count": null,
   "id": "60513450-d441-44c0-af8a-7bab9ac38f48",
   "metadata": {
    "papermill": {
     "duration": null,
     "end_time": null,
     "exception": null,
     "start_time": null,
     "status": "pending"
    },
    "tags": []
   },
   "outputs": [],
   "source": [
    "plt.semilogx(c_scores['c'], c_scores['score'])"
   ]
  },
  {
   "cell_type": "markdown",
   "id": "31a23814-b032-4dc1-b7d0-1da3a246743c",
   "metadata": {
    "papermill": {
     "duration": null,
     "end_time": null,
     "exception": null,
     "start_time": null,
     "status": "pending"
    },
    "tags": []
   },
   "source": [
    "Note: This graph looks worse if the paper's gamma is used."
   ]
  },
  {
   "cell_type": "code",
   "execution_count": null,
   "id": "8abddc73-c601-4028-907a-281b000882e4",
   "metadata": {
    "papermill": {
     "duration": null,
     "end_time": null,
     "exception": null,
     "start_time": null,
     "status": "pending"
    },
    "tags": []
   },
   "outputs": [],
   "source": [
    "from tqdm.notebook import tqdm \n",
    "gamma_scores = []\n",
    "for gamma in tqdm(np.logspace(-5, 5, num=200)):\n",
    "    clf.set_params(svm__C=100, svm__gamma=gamma, svm__random_state=12)\n",
    "    scores = cross_val_score(clf, X, y,\n",
    "                             groups=groups,\n",
    "                             cv=loo, n_jobs=4)\n",
    "    gamma_scores.append((gamma, scores.mean()))\n",
    "gamma_scores = pd.DataFrame(gamma_scores, columns=['gamma', 'score'])"
   ]
  },
  {
   "cell_type": "code",
   "execution_count": null,
   "id": "53ceceed-e310-4dec-8f7c-3969c1002ec1",
   "metadata": {
    "papermill": {
     "duration": null,
     "end_time": null,
     "exception": null,
     "start_time": null,
     "status": "pending"
    },
    "tags": []
   },
   "outputs": [],
   "source": [
    "plt.semilogx(gamma_scores['gamma'], gamma_scores['score'])"
   ]
  },
  {
   "cell_type": "code",
   "execution_count": null,
   "id": "68cbaaea-000b-4a46-a78f-7d4e1f4f3f99",
   "metadata": {},
   "outputs": [],
   "source": []
  }
 ],
 "metadata": {
  "kernelspec": {
   "display_name": "Python 3 (ipykernel)",
   "language": "python",
   "name": "python3"
  },
  "language_info": {
   "codemirror_mode": {
    "name": "ipython",
    "version": 3
   },
   "file_extension": ".py",
   "mimetype": "text/x-python",
   "name": "python",
   "nbconvert_exporter": "python",
   "pygments_lexer": "ipython3",
   "version": "3.10.9"
  }
 },
 "nbformat": 4,
 "nbformat_minor": 5
}
